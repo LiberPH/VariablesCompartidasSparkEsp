{
 "cells": [
  {
   "cell_type": "markdown",
   "metadata": {},
   "source": [
    "# <font color=\"blue\">Acumuladores</font>"
   ]
  },
  {
   "cell_type": "markdown",
   "metadata": {},
   "source": [
    "## <font color=\"#6195ED\">¿Qué son los acumuladores?</font>\n",
    "Los acumuladores son variables que sólo se suman a través de operaciones asociativas y conmutativas y por tanto son eficientes al implementarse en paralelo. Pueden usarse como contadores o sumas.\n",
    "## <font color=\"#6195ED\">¿Cómo implementamos los acumuladores?</font>\n",
    "Un acumulador puede crearse ya sea llamando `SparkContext.longAccumulator()` o `SparkContext.doubleAccumulator()` dependiendo de si queremos acumular Longs o Doubles. Podemos llamar también simplemente al acumulador como `sparkContext.accumulator()`"
   ]
  },
  {
   "cell_type": "code",
   "execution_count": 15,
   "metadata": {
    "collapsed": true
   },
   "outputs": [],
   "source": [
    "val accum = sc.longAccumulator(\"My Accumulator\")"
   ]
  },
  {
   "cell_type": "markdown",
   "metadata": {},
   "source": [
    "Las tareas pueden sumar elementos al acumulador usando el método `add`, pero no pueden leer su valor."
   ]
  },
  {
   "cell_type": "code",
   "execution_count": 16,
   "metadata": {
    "collapsed": true
   },
   "outputs": [],
   "source": [
    "sc.parallelize(Array(1, 2, 3, 4)).foreach(x => accum.add(x))"
   ]
  },
  {
   "cell_type": "markdown",
   "metadata": {},
   "source": [
    "Sólo el driver puede leer el valor del acumulador a través del método `value`."
   ]
  },
  {
   "cell_type": "code",
   "execution_count": 17,
   "metadata": {},
   "outputs": [
    {
     "data": {
      "text/plain": [
       "10"
      ]
     },
     "execution_count": 17,
     "metadata": {},
     "output_type": "execute_result"
    }
   ],
   "source": [
    "accum.value"
   ]
  }
 ],
 "metadata": {
  "kernelspec": {
   "display_name": "Apache Toree - Scala",
   "language": "scala",
   "name": "apache_toree_scala"
  },
  "language_info": {
   "file_extension": ".scala",
   "name": "scala",
   "version": "2.11.8"
  }
 },
 "nbformat": 4,
 "nbformat_minor": 2
}
